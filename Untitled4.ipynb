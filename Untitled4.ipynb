{
 "cells": [
  {
   "cell_type": "code",
   "execution_count": 23,
   "id": "e11178d0-1b1b-4ec0-845c-9a812e4a0cd9",
   "metadata": {},
   "outputs": [
    {
     "name": "stdout",
     "output_type": "stream",
     "text": [
      "--> DONE!\n"
     ]
    }
   ],
   "source": [
    "file_in_name = \"primers_sorted.csv\"\n",
    "file_out_name = \"primers_numeric.csv\"\n",
    "file_in = open(file_in_name, \"r\")\n",
    "file_out = open(file_out_name, \"w\")\n",
    "\n",
    "def nucltoint(primer):\n",
    "    line = \"\"\n",
    "    trans = {\"A\":'1', \"C\":'2', \"T\":'3', \"G\":'4'}\n",
    "    for i in primer:\n",
    "        line = line + trans[i]+\",\"\n",
    "    return line\n",
    "\n",
    "header = \"data_1,data_2,data_3,data_4,data_5,data_6,data_7,data_8,data_9,data_10,data_11,data_12,data_13,data_14,data_15,data_16,data_17,data_18,data_19,data_20,tm,gc_per,any_th,3p_th,hairpin_th\\n\"\n",
    "\n",
    "file_in.readline()\n",
    "file_out.write(header)\n",
    "\n",
    "for line in file_in:\n",
    "    data = line.split(\",\")\n",
    "    new_line = nucltoint(data[0]) + data[1] + \",\" + data[2] + \",\" + data[3] + \",\" + data[4] + \",\" + data[5]\n",
    "    file_out.write(new_line)\n",
    "\n",
    "file_in.close()\n",
    "file_out.close()\n",
    "print(\"--> DONE!\")"
   ]
  },
  {
   "cell_type": "code",
   "execution_count": null,
   "id": "6fb01365-c946-478b-8695-cfee688cd7b3",
   "metadata": {},
   "outputs": [],
   "source": []
  },
  {
   "cell_type": "code",
   "execution_count": null,
   "id": "24403916-6076-4c2d-a666-c3a8c5b9ed2b",
   "metadata": {},
   "outputs": [],
   "source": []
  }
 ],
 "metadata": {
  "kernelspec": {
   "display_name": "Python 3 (ipykernel)",
   "language": "python",
   "name": "python3"
  },
  "language_info": {
   "codemirror_mode": {
    "name": "ipython",
    "version": 3
   },
   "file_extension": ".py",
   "mimetype": "text/x-python",
   "name": "python",
   "nbconvert_exporter": "python",
   "pygments_lexer": "ipython3",
   "version": "3.9.7"
  }
 },
 "nbformat": 4,
 "nbformat_minor": 5
}
