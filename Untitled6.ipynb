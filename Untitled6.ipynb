{
 "cells": [
  {
   "cell_type": "code",
   "execution_count": 144,
   "id": "f33c99cd-20c8-4019-901d-159a2954005b",
   "metadata": {},
   "outputs": [
    {
     "name": "stdout",
     "output_type": "stream",
     "text": [
      "0\n"
     ]
    }
   ],
   "source": [
    "primer = \"AAAAACCCCCTTTTTGGGGG\"\n",
    "\n",
    "def hairpin(primer, head):\n",
    "    pl = len(primer)\n",
    "    match = ({\"A\", \"T\"},{\"C\", \"G\"})\n",
    "\n",
    "    c_max = 0\n",
    "    for n in range(1,pl):\n",
    "        if n <= head or pl - n <= head: pass\n",
    "        else:\n",
    "            pr_1 = \"*\" * (2*n - pl)*(n>10) + primer[:pl-n-head] + \"-\"*(head != 0) + primer[pl-n-head:pl-n]\n",
    "            pr_2 = \"*\" * (pl-2*n)*(not n>10) +primer[-n:][::-1][:n-head] + \"-\"*(head != 0) + primer[-n:][::-1][n-head:n]\n",
    "            c = 0\n",
    "            for i in range(len(pr_1)-head-1):\n",
    "                print(i)\n",
    "                if {pr_1[i], pr_2[i]} in match: c += 1\n",
    "                if c_max < c: c_max = c\n",
    "        return(c_max)\n",
    "        \n",
    "print(hairpin(primer,2))"
   ]
  },
  {
   "cell_type": "code",
   "execution_count": 139,
   "id": "f3b80e00-6a82-4ef2-8023-32b45fbc1e32",
   "metadata": {},
   "outputs": [
    {
     "name": "stdout",
     "output_type": "stream",
     "text": [
      "****AAAA-ACCC\n",
      "GGGGGTTT-TTCC\n"
     ]
    }
   ],
   "source": [
    "primer = \"AAAAACCCCCTTTTTGGGGG\"\n",
    "pl = len(primer)\n",
    "head = 4\n",
    "n = 12\n",
    "\n",
    "if n <= head or pl - n <= head:\n",
    "    print(\"HEAD!\")\n",
    "else:\n",
    "    print(\"*\" * (2*n - pl)*(n>10) + primer[:pl-n-head] + \"-\"*(head != 0) + primer[pl-n-head:pl-n])\n",
    "    print(\"*\" * (pl-2*n)*(not n>10) +primer[-n:][::-1][:n-head] + \"-\"*(head != 0) + primer[-n:][::-1][n-head:n])\n",
    "\n",
    "    "
   ]
  },
  {
   "cell_type": "code",
   "execution_count": null,
   "id": "73b78107-2b7b-4538-b37f-9b6cfb4c5791",
   "metadata": {},
   "outputs": [],
   "source": []
  }
 ],
 "metadata": {
  "kernelspec": {
   "display_name": "Python 3 (ipykernel)",
   "language": "python",
   "name": "python3"
  },
  "language_info": {
   "codemirror_mode": {
    "name": "ipython",
    "version": 3
   },
   "file_extension": ".py",
   "mimetype": "text/x-python",
   "name": "python",
   "nbconvert_exporter": "python",
   "pygments_lexer": "ipython3",
   "version": "3.9.9"
  }
 },
 "nbformat": 4,
 "nbformat_minor": 5
}
