{
 "cells": [
  {
   "cell_type": "code",
   "execution_count": 21,
   "id": "21d2ddc6",
   "metadata": {},
   "outputs": [
    {
     "name": "stdout",
     "output_type": "stream",
     "text": [
      "[0. 0. 0. 0. 0. 0. 0. 0. 0. 0. 0. 0. 0. 0. 0. 0. 0. 0. 4. 1. 2. 2. 3. 2.\n",
      " 2. 3. 2. 2. 1. 1. 1. 3. 3. 3. 2. 2. 3. 2.]\n",
      "[0. 0. 0. 0. 0. 0. 0. 0. 0. 0. 0. 0. 0. 0. 0. 0. 0. 0. 0. 2. 4. 2. 3. 1.\n",
      " 3. 4. 1. 1. 3. 2. 2. 1. 4. 4. 2. 1. 1. 3. 4.]\n",
      "6\n"
     ]
    }
   ],
   "source": [
    "def comparer(primer1, primer2):\n",
    "\n",
    "    primer2 = primer2[::-1]\n",
    "    p1_tab = np.hstack((np.zeros(len(primer1 + primer2) - 2), primer1))\n",
    "    p2_tab = np.hstack((np.zeros(len(primer1) - 1), primer2))\n",
    "    align = []\n",
    "    print(p1_tab)\n",
    "    print(p2_tab)\n",
    "    for i in range(len(primer1 + primer2) - 1):\n",
    "        common = list(zip(p1_tab[i:], p2_tab))\n",
    "        align.append(\n",
    "            common.count((1, 3)) + common.count((3, 1)) +\n",
    "            common.count((2, 4)) + common.count((4, 2))\n",
    "        )\n",
    "    return max(align)\n",
    "\n",
    "primer1 = [4., 1., 2., 2., 3., 2., 2., 3., 2., 2., 1., 1., 1., 3., 3., 3., 2., 2., 3., 2.]\n",
    "primer2 = [4., 3., 1., 1., 2., 4., 4., 1., 2., 2., 3., 1., 1., 4., 3., 1., 3., 2., 4., 2.]\n",
    "\n",
    "import numpy as np\n",
    "a1 = np.array([4., 1., 2., 2., 3., 2., 2., 3., 2., 2., 1., 1., 1., 3., 3., 3., 2., 2., 3., 2.])\n",
    "a2 = np.array([4., 3., 1., 1., 2., 4., 4., 1., 2., 2., 3., 1., 1., 4., 3., 1., 3., 2., 4., 2.])\n",
    "\n",
    "print(comparer(a1, a2))"
   ]
  },
  {
   "cell_type": "code",
   "execution_count": 5,
   "id": "59ffe08f",
   "metadata": {},
   "outputs": [
    {
     "data": {
      "text/plain": [
       "3"
      ]
     },
     "execution_count": 5,
     "metadata": {},
     "output_type": "execute_result"
    }
   ],
   "source": [
    "a = [1, 2, 3, 1, 2, 3, 1, 2, 3, 3, 3, 3]\n",
    "a.count(1)"
   ]
  },
  {
   "cell_type": "code",
   "execution_count": 8,
   "id": "c72ab639",
   "metadata": {},
   "outputs": [],
   "source": [
    "import numpy as np\n",
    "a1 = np.array([4., 1., 2., 2., 3., 2., 2., 3., 2., 2., 1., 1., 1., 3., 3., 3., 2., 2., 3., 2.])\n",
    "a2 = np.array([4., 3., 1., 1., 2., 4., 4., 1., 2., 2., 3., 1., 1., 4., 3., 1., 3., 2., 4., 2.])"
   ]
  },
  {
   "cell_type": "code",
   "execution_count": 9,
   "id": "31728ca5",
   "metadata": {},
   "outputs": [
    {
     "data": {
      "text/plain": [
       "array([4., 1., 2., 2., 3., 2., 2., 3., 2., 2., 1., 1., 1., 3., 3., 3., 2.,\n",
       "       2., 3., 2.])"
      ]
     },
     "execution_count": 9,
     "metadata": {},
     "output_type": "execute_result"
    }
   ],
   "source": [
    "a1"
   ]
  },
  {
   "cell_type": "code",
   "execution_count": 17,
   "id": "7fdab471",
   "metadata": {},
   "outputs": [
    {
     "data": {
      "text/plain": [
       "array([4., 1., 2., 2., 3., 2., 2., 3., 2., 2., 1., 1., 1., 3., 3., 3., 2.,\n",
       "       2., 3., 2.])"
      ]
     },
     "execution_count": 17,
     "metadata": {},
     "output_type": "execute_result"
    }
   ],
   "source": [
    "a1"
   ]
  },
  {
   "cell_type": "code",
   "execution_count": 16,
   "id": "9655b388",
   "metadata": {},
   "outputs": [
    {
     "data": {
      "text/plain": [
       "array([2., 3., 2., 2., 3., 3., 3., 1., 1., 1., 2., 2., 3., 2., 2., 3., 2.,\n",
       "       2., 1., 4.])"
      ]
     },
     "execution_count": 16,
     "metadata": {},
     "output_type": "execute_result"
    }
   ],
   "source": [
    "a1[::-1]"
   ]
  },
  {
   "cell_type": "code",
   "execution_count": null,
   "id": "991b5f38",
   "metadata": {},
   "outputs": [],
   "source": []
  }
 ],
 "metadata": {
  "kernelspec": {
   "display_name": "Python 3 (ipykernel)",
   "language": "python",
   "name": "python3"
  },
  "language_info": {
   "codemirror_mode": {
    "name": "ipython",
    "version": 3
   },
   "file_extension": ".py",
   "mimetype": "text/x-python",
   "name": "python",
   "nbconvert_exporter": "python",
   "pygments_lexer": "ipython3",
   "version": "3.9.7"
  }
 },
 "nbformat": 4,
 "nbformat_minor": 5
}
