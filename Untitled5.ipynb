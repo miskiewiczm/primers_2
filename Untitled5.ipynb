{
 "cells": [
  {
   "cell_type": "code",
   "execution_count": 18,
   "id": "79fd96c5-3c42-411b-ad41-031498207091",
   "metadata": {},
   "outputs": [],
   "source": [
    "def nucltoint(primer):\n",
    "    line = \"\"\n",
    "    trans = {\"A\":'1', \"C\":'2', \"T\":'3', \"G\":'4'}\n",
    "    for i in primer:\n",
    "        line = line + trans[i]+\",\"\n",
    "    return line"
   ]
  },
  {
   "cell_type": "code",
   "execution_count": 19,
   "id": "e39f4f63-45c5-4e6d-8d7b-18c7cb5aaf3e",
   "metadata": {},
   "outputs": [
    {
     "name": "stdout",
     "output_type": "stream",
     "text": [
      "1,1,2,3,4,1,\n"
     ]
    }
   ],
   "source": [
    "nucltoint(\"AACTGA\")"
   ]
  },
  {
   "cell_type": "code",
   "execution_count": null,
   "id": "acde2739-4f3b-4040-83a2-056b1a017bc0",
   "metadata": {},
   "outputs": [],
   "source": []
  }
 ],
 "metadata": {
  "kernelspec": {
   "display_name": "Python 3 (ipykernel)",
   "language": "python",
   "name": "python3"
  },
  "language_info": {
   "codemirror_mode": {
    "name": "ipython",
    "version": 3
   },
   "file_extension": ".py",
   "mimetype": "text/x-python",
   "name": "python",
   "nbconvert_exporter": "python",
   "pygments_lexer": "ipython3",
   "version": "3.9.7"
  }
 },
 "nbformat": 4,
 "nbformat_minor": 5
}
